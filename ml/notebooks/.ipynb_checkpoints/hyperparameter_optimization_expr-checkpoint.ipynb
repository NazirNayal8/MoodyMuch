{
 "cells": [
  {
   "cell_type": "code",
   "execution_count": 1,
   "metadata": {},
   "outputs": [],
   "source": [
    "import os\n",
    "os.chdir(\"../\")"
   ]
  },
  {
   "cell_type": "code",
   "execution_count": 2,
   "metadata": {},
   "outputs": [],
   "source": [
    "import wandb\n",
    "import torch\n",
    "import random\n",
    "import time\n",
    "import numpy as np\n",
    "import torch.nn.functional as F\n",
    "import torch.nn as nn\n",
    "import matplotlib.pyplot as plt\n",
    "from torchvision import transforms\n",
    "from torch import optim\n",
    "from tqdm.notebook import tqdm\n",
    "from models.mobilenetv2 import mobilenetv2\n",
    "from data.affwild2_dataset import AffWild2ExprDataset\n",
    "from torch.utils.data import DataLoader, Subset\n",
    "from torch.optim.lr_scheduler import StepLR\n",
    "from typing import Any\n",
    "from torchvision import datasets\n",
    "from collections import namedtuple"
   ]
  },
  {
   "cell_type": "code",
   "execution_count": 3,
   "metadata": {},
   "outputs": [],
   "source": [
    "%load_ext autoreload\n",
    "%autoreload 2"
   ]
  },
  {
   "cell_type": "markdown",
   "metadata": {},
   "source": [
    "# Utility Functions"
   ]
  },
  {
   "cell_type": "code",
   "execution_count": 4,
   "metadata": {},
   "outputs": [],
   "source": [
    "def random_seed(seed):\n",
    "    \"\"\"Set seed\"\"\"\n",
    "    random.seed(seed)\n",
    "    np.random.seed(seed)\n",
    "    torch.manual_seed(seed)\n",
    "    if torch.cuda.is_available():\n",
    "        torch.cuda.manual_seed(seed)\n",
    "        torch.cuda.manual_seed_all(seed)\n",
    "        torch.backends.cudnn.deterministic = True\n",
    "        torch.backends.cudnn.benchmark = False\n",
    "    os.environ[\"PYTHONHASHSEED\"] = str(seed)\n",
    "\n",
    "def store_params(content, name):\n",
    "    f = open(f'params/{name}.pkl','wb')\n",
    "    pickle.dump(content, f)\n",
    "    f.close()\n",
    "\n",
    "def load_params(name):\n",
    "    fl = open(f'params/{name}.pkl', \"rb\")\n",
    "    loaded = pickle.load(fl)\n",
    "    return loaded\n",
    "\n",
    "def store_model(model, name):\n",
    "    torch.save(model.state_dict(), f'./trained_models/{name}.pth')\n",
    "                                "
   ]
  },
  {
   "cell_type": "markdown",
   "metadata": {},
   "source": [
    "# Data Preparation"
   ]
  },
  {
   "cell_type": "code",
   "execution_count": 209,
   "metadata": {},
   "outputs": [],
   "source": [
    "project_name = 'moody_much'\n",
    "cores = 15\n",
    "random_seed(8)\n",
    "batch_size = 512\n",
    "num_classes = 2\n",
    "skip = 0\n",
    "input_dim = 112"
   ]
  },
  {
   "cell_type": "code",
   "execution_count": 210,
   "metadata": {},
   "outputs": [
    {
     "data": {
      "application/vnd.jupyter.widget-view+json": {
       "model_id": "f53924e685c94d6e8ac342304598e9d6",
       "version_major": 2,
       "version_minor": 0
      },
      "text/plain": [
       "HBox(children=(HTML(value=''), FloatProgress(value=0.0, max=97.0), HTML(value='')))"
      ]
     },
     "metadata": {},
     "output_type": "display_data"
    },
    {
     "name": "stdout",
     "output_type": "stream",
     "text": [
      "\n"
     ]
    },
    {
     "data": {
      "text/plain": [
       "(tensor([0.4722, 0.3625, 0.3350]), tensor([0.2181, 0.1921, 0.1855]))"
      ]
     },
     "execution_count": 210,
     "metadata": {},
     "output_type": "execute_result"
    }
   ],
   "source": [
    "identity_transform = transforms.Compose([\n",
    "    transforms.ToTensor()\n",
    "])\n",
    "\n",
    "mean = 0.\n",
    "std = 0.\n",
    "train_dataset = AffWild2ExprDataset(train=True, skip=skip, remove_mismatch=True, \n",
    "                                    compress=True, \n",
    "                                    transform=identity_transform, binary=True)\n",
    "\n",
    "loader = DataLoader(train_dataset, batch_size=batch_size)\n",
    "for images, _ in tqdm(loader):\n",
    "    batch_samples = images.size(0) # batch size (the last batch can have smaller size!)\n",
    "    images = images.view(batch_samples, images.size(1), -1)\n",
    "    mean += images.mean(2).sum(0)\n",
    "    std += images.std(2).sum(0)\n",
    "\n",
    "mean /= len(loader.dataset)\n",
    "std /= len(loader.dataset)\n",
    "\n",
    "mean, std"
   ]
  },
  {
   "cell_type": "code",
   "execution_count": 222,
   "metadata": {},
   "outputs": [],
   "source": [
    "transform_train = transforms.Compose([\n",
    "    transforms.ToTensor(),\n",
    "    transforms.RandomRotation(30),\n",
    "    transforms.RandomResizedCrop((112,112)),\n",
    "    transforms.RandomHorizontalFlip(0.3),\n",
    "    transforms.RandomAffine(30),\n",
    "    transforms.Normalize(mean=mean, std=std),\n",
    "])\n",
    "\n",
    "transform_valid = transforms.Compose([\n",
    "    transforms.ToTensor(),\n",
    "    transforms.Normalize(mean=mean, std=std),\n",
    "])\n",
    "\n",
    "train_dataset = AffWild2ExprDataset(train=True, skip=skip, remove_mismatch=True,\n",
    "                                    compress=True, transform=transform_train, binary=True)\n",
    "valid_dataset = AffWild2ExprDataset(train=False, skip=skip, remove_mismatch=True,\n",
    "                                    compress=True, transform=transform_valid, binary=True)"
   ]
  },
  {
   "cell_type": "code",
   "execution_count": 212,
   "metadata": {},
   "outputs": [
    {
     "data": {
      "text/plain": [
       "(49218, 15266)"
      ]
     },
     "execution_count": 212,
     "metadata": {},
     "output_type": "execute_result"
    }
   ],
   "source": [
    "len(train_dataset), len(valid_dataset)"
   ]
  },
  {
   "cell_type": "code",
   "execution_count": 215,
   "metadata": {},
   "outputs": [
    {
     "name": "stderr",
     "output_type": "stream",
     "text": [
      "Clipping input data to the valid range for imshow with RGB data ([0..1] for floats or [0..255] for integers).\n"
     ]
    },
    {
     "data": {
      "image/png": "[encoded data removed]",
      "text/plain": [
       "<Figure size 432x288 with 1 Axes>"
      ]
     },
     "metadata": {
      "needs_background": "light"
     },
     "output_type": "display_data"
    }
   ],
   "source": [
    "s, l = train_dataset[1000]\n",
    "s.shape\n",
    "\n",
    "_ = plt.imshow(s.numpy().transpose(1, 2, 0))"
   ]
  },
  {
   "cell_type": "code",
   "execution_count": 223,
   "metadata": {},
   "outputs": [],
   "source": [
    "total_valid_num = len(valid_dataset)\n",
    "total_train_num = len(train_dataset)\n",
    "valid_num = int(0.5 * total_valid_num)\n",
    "\n",
    "valid_mask = list(range(valid_num))\n",
    "test_mask = list(range(valid_num, total_valid_num))\n",
    "\n",
    "valid_loader = DataLoader(Subset(valid_dataset, valid_mask), batch_size=batch_size, shuffle=True)\n",
    "test_loader = DataLoader(Subset(valid_dataset, test_mask), batch_size=batch_size, shuffle=True)\n",
    "\n",
    "small_train_mask = random.sample(range(total_train_num), 500)\n",
    "medium_train_mask = random.sample(range(total_train_num), 1000)\n",
    "small_valid_mask = random.sample(range(total_valid_num), 200)\n",
    "\n",
    "small_train_loader = DataLoader(Subset(train_dataset, list(small_train_mask)), batch_size=batch_size, \n",
    "                                shuffle=True, num_workers=2)\n",
    "small_valid_loader = DataLoader(Subset(valid_dataset, list(small_valid_mask)), batch_size=batch_size, \n",
    "                                shuffle=True, num_workers=2)\n",
    "\n",
    "medium_loader = DataLoader(Subset(train_dataset, list(medium_train_mask)), batch_size=batch_size, shuffle=True)"
   ]
  },
  {
   "cell_type": "code",
   "execution_count": 42,
   "metadata": {},
   "outputs": [
    {
     "name": "stdout",
     "output_type": "stream",
     "text": [
      "cuda:0\n"
     ]
    }
   ],
   "source": [
    "device = torch.device(\"cuda:0\" if torch.cuda.is_available() else \"cpu\")\n",
    "print(device)"
   ]
  },
  {
   "cell_type": "markdown",
   "metadata": {},
   "source": [
    "# Sweep Configuration"
   ]
  },
  {
   "cell_type": "code",
   "execution_count": 224,
   "metadata": {},
   "outputs": [
    {
     "ename": "SyntaxError",
     "evalue": "invalid syntax (<ipython-input-224-5ce9a7b67bee>, line 9)",
     "output_type": "error",
     "traceback": [
      "\u001b[0;36m  File \u001b[0;32m\"<ipython-input-224-5ce9a7b67bee>\"\u001b[0;36m, line \u001b[0;32m9\u001b[0m\n\u001b[0;31m    'values': [0.0001 0.0005, 0.001]\u001b[0m\n\u001b[0m                      ^\u001b[0m\n\u001b[0;31mSyntaxError\u001b[0m\u001b[0;31m:\u001b[0m invalid syntax\n"
     ]
    }
   ],
   "source": [
    "sweep_config = {\n",
    "    'method': 'grid', #grid, random\n",
    "    'metric': {\n",
    "      'name': 'valid_accuracy',\n",
    "      'goal': 'maximize'   \n",
    "    },\n",
    "    'parameters': {\n",
    "        'learning_rate': {\n",
    "            'values': [0.0001 0.0005, 0.001]\n",
    "        },\n",
    "        'weight_decay': {\n",
    "            'values': [1e-1, 1e-2]\n",
    "        },\n",
    "        'batch_size': {\n",
    "            'values': [512, 256]\n",
    "        }\n",
    "\n",
    "    }\n",
    "}"
   ]
  },
  {
   "cell_type": "markdown",
   "metadata": {},
   "source": [
    "# Training"
   ]
  },
  {
   "cell_type": "code",
   "execution_count": 21,
   "metadata": {},
   "outputs": [],
   "source": [
    "def evaluate_video(model: nn.Module, data_loader: Any, device: torch.device, comment: str = \"\"):\n",
    "    \n",
    "    model.eval()\n",
    "    model.to(device)\n",
    "    \n",
    "    total_samples = 0\n",
    "    correct_samples = 0\n",
    "    total_loss = 0\n",
    "    loss_history = []\n",
    "\n",
    "    batch = 128\n",
    "    count = 0\n",
    "    with torch.no_grad():\n",
    "        for (frames, labels) in tqdm(data_loader):\n",
    "            \n",
    "            num_frames = frames.shape[1]\n",
    "            face_frames = frames.squeeze()\n",
    "            for i in range(num_frames // batch):\n",
    "                \n",
    "                l = batch * i\n",
    "                r = min(batch * (i + 1), num_frames)\n",
    "                \n",
    "                face_batch = face_frames[l:r]\n",
    "                label = labels[:,l:r].squeeze()\n",
    "                \n",
    "                face_batch = face_batch.to(device)\n",
    "                label = label.to(device)\n",
    "                \n",
    "                out = model(face_batch)\n",
    "                out_prob = F.log_softmax(out, dim=1)\n",
    "                loss = F.nll_loss(out_prob, label)\n",
    "                _, pred = torch.max(out_prob, dim=1)\n",
    "\n",
    "                total_loss += loss.item()\n",
    "                correct_samples += pred.eq(label).sum()\n",
    "                count += 1\n",
    "                total_samples += out_prob.shape[0]\n",
    "                \n",
    "    avg_loss = total_loss / count\n",
    "    wandb.log({'valid_loss': avg_loss})\n",
    "    accuracy = 100.0 * correct_samples / total_samples\n",
    "    return accuracy"
   ]
  },
  {
   "cell_type": "code",
   "execution_count": 22,
   "metadata": {},
   "outputs": [],
   "source": [
    "def train_video():\n",
    "    \n",
    "    config_defaults = {\n",
    "        'epochs': 5,\n",
    "        'batch_size': 1,\n",
    "        'learning_rate': 0.0004,\n",
    "        'optimizer': 'adam',\n",
    "        'weight_decay': 4e-5,\n",
    "        'decay_step': 20,\n",
    "        'decay_gamma': 0.1,\n",
    "        'input_dim': input_dim,\n",
    "        'num_classes': num_classes,\n",
    "    }\n",
    "    \n",
    "    universal_id = random.randint(1, 100000)\n",
    "    \n",
    "    wandb.init(config=config_defaults)\n",
    "    #config = namedtuple(\"Config\", config_defaults.keys())(*config_defaults.values())\n",
    "    config = wandb.config\n",
    "    \n",
    "    model = mobilenetv2()\n",
    "    model.load_state_dict(torch.load('weights/mobilenetv2_128x128-fd66a69d.pth'))\n",
    "    model.classifier = nn.Linear(model.classifier.in_features, 7)\n",
    "    \n",
    "    train_loader = DataLoader(train_dataset, batch_size=config.batch_size, shuffle=True, num_workers=cores)\n",
    "    \n",
    "    if config.optimizer == 'adam':\n",
    "        optimizer = optim.Adam(model.parameters(), lr=config.learning_rate, weight_decay=config.weight_decay)\n",
    "    else:\n",
    "        optimizer = optim.SGD(model.parameters(), lr=config.learning_rate, weight_decay=config.weight_decay, momentum=0.9)\n",
    "    \n",
    "    lr_scheduler = StepLR(optimizer, step_size=config.decay_step, gamma=config.decay_gamma)\n",
    "    \n",
    "    full_start = time.time()\n",
    "    for epoch in tqdm(range(config.epochs)):\n",
    "        \n",
    "        model.train()\n",
    "        model.to(device)\n",
    "        print(f\"Starting Epoch {epoch}\")\n",
    "        \n",
    "        total_loss = 0\n",
    "        epoch_time = time.time()\n",
    "        num_batches = 0\n",
    "        \n",
    "        batch = 128\n",
    "        count = 0\n",
    "\n",
    "        for (frames, labels) in tqdm(small_train_loader):\n",
    "            \n",
    "            num_frames = frames.shape[1]\n",
    "            face_frames = frames.squeeze()\n",
    "            for i in range(num_frames // batch):\n",
    "                \n",
    "                l = batch * i\n",
    "                r = min(batch * (i + 1), num_frames)\n",
    "                \n",
    "                face_batch = face_frames[l:r]\n",
    "                label = labels[:,l:r].squeeze()\n",
    "                \n",
    "                face_batch = face_batch.to(device)\n",
    "                label = label.to(device)\n",
    "                \n",
    "                optimizer.zero_grad()\n",
    "                \n",
    "                out = model(face_batch)\n",
    "                out_prob = F.log_softmax(out, dim=1)\n",
    "                loss = F.nll_loss(out_prob, label)\n",
    "                _, pred = torch.max(out_prob, dim=1)\n",
    "                \n",
    "                loss.backward()\n",
    "                optimizer.step()\n",
    "                \n",
    "                total_loss += loss.item()\n",
    "                count += 1\n",
    "                \n",
    "                wandb.log({'batch_loss': loss.item()})\n",
    "                \n",
    "        print(f\"Finished Epoch {i}\")\n",
    "        \n",
    "        valid_accuracy = evaluate_video(model, small_valid_loader, device)\n",
    "        train_accuracy = evaluate_video(model, small_train_loader, device)\n",
    "        \n",
    "        print(f\"Validation Accuracy: \", valid_accuracy)\n",
    "        print(f\"Training Accuracy: \", train_accuracy)\n",
    "        \n",
    "        if i % 3 == 0:\n",
    "            torch.save(model.state_dict(), f'trained_models/mobilenetv2_hyperparam_{universal_id}.pth')\n",
    "        \n",
    "        wandb.log({\n",
    "            'loss': total_loss / count,\n",
    "            'valid_accuracy': valid_accuracy,\n",
    "            'train_accuracy': train_accuracy,\n",
    "            'epoch_time_minutes': (time.time() - epoch_time) / 60\n",
    "        })\n",
    "        \n",
    "        lr_scheduler.step()\n",
    "    \n",
    "    wandb.log({'full_run_time_minutes': (time.time() - full_start) / 60, 'universal_id':universal_id})\n",
    "        "
   ]
  },
  {
   "cell_type": "code",
   "execution_count": 90,
   "metadata": {},
   "outputs": [],
   "source": [
    "def evaluate(model: nn.Module, data_loader: Any, device: torch.device, comment: str = \"\"):\n",
    "    \n",
    "    model.eval()\n",
    "    \n",
    "    total_samples = len(data_loader.dataset)\n",
    "    correct_samples = 0\n",
    "    total_loss = 0\n",
    "    loss_history = []\n",
    "\n",
    "    with torch.no_grad():\n",
    "        for data, target in tqdm(data_loader):\n",
    "            data = data.to(device)\n",
    "            target = target.to(device)\n",
    "            \n",
    "            output = F.log_softmax(model(data), dim=1)\n",
    "            loss = F.nll_loss(output, target, reduction='sum')\n",
    "            _, pred = torch.max(output, dim=1)\n",
    "\n",
    "            total_loss += loss.item()\n",
    "            correct_samples += pred.eq(target).sum()\n",
    "    \n",
    "    avg_loss = total_loss / total_samples\n",
    "    if comment == \"val\":\n",
    "        wandb.log({'valid_loss': avg_loss})\n",
    "    \n",
    "    accuracy = 100.0 * correct_samples / total_samples\n",
    "    return accuracy"
   ]
  },
  {
   "cell_type": "code",
   "execution_count": 225,
   "metadata": {},
   "outputs": [],
   "source": [
    "def train():\n",
    "    \n",
    "    config_defaults = {\n",
    "        'epochs': 5,\n",
    "        'batch_size': batch_size,\n",
    "        'learning_rate': 0.0004,\n",
    "        'optimizer': 'adam',\n",
    "        'weight_decay': 4e-5,\n",
    "        'decay_step': 20,\n",
    "        'decay_gamma': 0.1,\n",
    "        'input_dim': input_dim,\n",
    "        'num_classes': num_classes,\n",
    "    }\n",
    "    \n",
    "    universal_id = random.randint(1, 100000)\n",
    "    \n",
    "    wandb.init(config=config_defaults)\n",
    "    #config = namedtuple(\"Config\", config_defaults.keys())(*config_defaults.values())\n",
    "    config = wandb.config\n",
    "    \n",
    "    model = mobilenetv2()\n",
    "    # model.load_state_dict(torch.load('weights/mobilenetv2_128x128-fd66a69d.pth'))\n",
    "    model.load_state_dict(torch.load('weights/mobilenetv2_192x192-e423d99e.pth'))\n",
    "    model.classifier = nn.Linear(model.classifier.in_features, config.num_classes)\n",
    "    \n",
    "    train_loader = DataLoader(train_dataset, batch_size=config.batch_size, shuffle=True, num_workers=cores)\n",
    "    \n",
    "    if config.optimizer == 'adam':\n",
    "        optimizer = optim.Adam(model.parameters(), lr=config.learning_rate, weight_decay=config.weight_decay)\n",
    "    else:\n",
    "        optimizer = optim.SGD(model.parameters(), lr=config.learning_rate, weight_decay=config.weight_decay, momentum=0.9)\n",
    "    \n",
    "    lr_scheduler = StepLR(optimizer, step_size=config.decay_step, gamma=config.decay_gamma)\n",
    "    \n",
    "    full_start = time.time()\n",
    "    for i in tqdm(range(config.epochs)):\n",
    "        \n",
    "        model.train()\n",
    "        model.to(device)\n",
    "        print(f\"Starting Epoch {i}\")\n",
    "        \n",
    "        total_loss = 0\n",
    "        epoch_time = time.time()\n",
    "        num_batches = 0\n",
    "        for data, label in tqdm(train_loader):\n",
    "            \n",
    "            data, label = data.to(device), label.to(device)\n",
    "            optimizer.zero_grad()\n",
    "            \n",
    "            out = model(data)\n",
    "            output = F.log_softmax(out, dim=1)\n",
    "            loss = F.nll_loss(output, label)\n",
    "            loss.backward()\n",
    "            \n",
    "            total_loss += loss.item()\n",
    "            optimizer.step()\n",
    "            num_batches += 1\n",
    "            \n",
    "            wandb.log({'batch_loss': loss.item()})\n",
    "        print(f\"Finished Epoch {i}\")\n",
    "        \n",
    "        valid_accuracy = evaluate(model, valid_loader, device, \"val\")\n",
    "        train_accuracy = evaluate(model, train_loader, device)\n",
    "        \n",
    "        print(f\"Validation Accuracy: \", valid_accuracy)\n",
    "        print(f\"Training Accuracy: \", train_accuracy)\n",
    "        \n",
    "        if i % 3 == 0:\n",
    "            torch.save(model.state_dict(), f'trained_models/mobilenetv2_hyper_{universal_id}.pth')\n",
    "        \n",
    "        wandb.log({\n",
    "            'loss': total_loss / num_batches,\n",
    "            'valid_accuracy': valid_accuracy,\n",
    "            'train_accuracy': train_accuracy,\n",
    "            'epoch_time_minutes': (time.time() - epoch_time) / 60\n",
    "        })\n",
    "        \n",
    "        lr_scheduler.step()\n",
    "        \n",
    "    torch.save(model.state_dict(), f'trained_models/mobilenetv2_hyper_{universal_id}.pth')\n",
    "    test_accuracy = evaluate(model, test_loader, device)\n",
    "    wandb.log({\n",
    "        'full_run_time_minutes': (time.time() - full_start) / 60, \n",
    "        'universal_id':universal_id,\n",
    "        'test_accuracy':test_accuracy\n",
    "    })\n",
    "        "
   ]
  },
  {
   "cell_type": "markdown",
   "metadata": {},
   "source": [
    "# Initialize Sweep "
   ]
  },
  {
   "cell_type": "code",
   "execution_count": 226,
   "metadata": {},
   "outputs": [
    {
     "name": "stdout",
     "output_type": "stream",
     "text": [
      "Create sweep with ID: njcdqpq8\n",
      "Sweep URL: https://wandb.ai/nazirnayal98/moody_much/sweeps/njcdqpq8\n"
     ]
    }
   ],
   "source": [
    "sweep_id = wandb.sweep(sweep_config, project=project_name)"
   ]
  },
  {
   "cell_type": "markdown",
   "metadata": {},
   "source": [
    "# Run Sweep"
   ]
  },
  {
   "cell_type": "code",
   "execution_count": null,
   "metadata": {},
   "outputs": [
    {
     "name": "stderr",
     "output_type": "stream",
     "text": [
      "\u001b[34m\u001b[1mwandb\u001b[0m: Agent Starting Run: 49o4qal0 with config:\n",
      "\u001b[34m\u001b[1mwandb\u001b[0m: \tlearning_rate: 0.0001\n",
      "\u001b[34m\u001b[1mwandb\u001b[0m: \tweight_decay: 0.001\n"
     ]
    },
    {
     "data": {
      "text/html": [
       "\n",
       "                Tracking run with wandb version 0.10.20<br/>\n",
       "                Syncing run <strong style=\"color:#cdcd00\">fiery-sweep-1</strong> to <a href=\"https://wandb.ai\" target=\"_blank\">Weights & Biases</a> <a href=\"https://docs.wandb.com/integrations/jupyter.html\" target=\"_blank\">(Documentation)</a>.<br/>\n",
       "                Project page: <a href=\"https://wandb.ai/nazirnayal98/moody_much\" target=\"_blank\">https://wandb.ai/nazirnayal98/moody_much</a><br/>\n",
       "                Sweep page: <a href=\"https://wandb.ai/nazirnayal98/moody_much/sweeps/njcdqpq8\" target=\"_blank\">https://wandb.ai/nazirnayal98/moody_much/sweeps/njcdqpq8</a><br/>\n",
       "Run page: <a href=\"https://wandb.ai/nazirnayal98/moody_much/runs/49o4qal0\" target=\"_blank\">https://wandb.ai/nazirnayal98/moody_much/runs/49o4qal0</a><br/>\n",
       "                Run data is saved locally in <code>/scratch/users/nnayal17/moody_much/MoodyMuch/ml/wandb/run-20210327_210149-49o4qal0</code><br/><br/>\n",
       "            "
      ],
      "text/plain": [
       "<IPython.core.display.HTML object>"
      ]
     },
     "metadata": {},
     "output_type": "display_data"
    },
    {
     "data": {
      "application/vnd.jupyter.widget-view+json": {
       "model_id": "2099c07cee32463a9d0a352ad8ba9b57",
       "version_major": 2,
       "version_minor": 0
      },
      "text/plain": [
       "HBox(children=(HTML(value=''), FloatProgress(value=0.0, max=5.0), HTML(value='')))"
      ]
     },
     "metadata": {},
     "output_type": "display_data"
    },
    {
     "name": "stdout",
     "output_type": "stream",
     "text": [
      "Starting Epoch 0\n"
     ]
    },
    {
     "data": {
      "application/vnd.jupyter.widget-view+json": {
       "model_id": "218548d9a42f4746aa11d7d94c0920fa",
       "version_major": 2,
       "version_minor": 0
      },
      "text/plain": [
       "HBox(children=(HTML(value=''), FloatProgress(value=0.0, max=97.0), HTML(value='')))"
      ]
     },
     "metadata": {},
     "output_type": "display_data"
    },
    {
     "name": "stdout",
     "output_type": "stream",
     "text": [
      "\n",
      "Finished Epoch 0\n"
     ]
    },
    {
     "data": {
      "application/vnd.jupyter.widget-view+json": {
       "model_id": "8a7ad0a1b21f44ebbc76b5bf57219262",
       "version_major": 2,
       "version_minor": 0
      },
      "text/plain": [
       "HBox(children=(HTML(value=''), FloatProgress(value=0.0, max=15.0), HTML(value='')))"
      ]
     },
     "metadata": {},
     "output_type": "display_data"
    },
    {
     "name": "stdout",
     "output_type": "stream",
     "text": [
      "\n"
     ]
    },
    {
     "data": {
      "application/vnd.jupyter.widget-view+json": {
       "model_id": "12ebce2414a0476885f6d1ef1a90205a",
       "version_major": 2,
       "version_minor": 0
      },
      "text/plain": [
       "HBox(children=(HTML(value=''), FloatProgress(value=0.0, max=97.0), HTML(value='')))"
      ]
     },
     "metadata": {},
     "output_type": "display_data"
    },
    {
     "name": "stdout",
     "output_type": "stream",
     "text": [
      "\n",
      "Validation Accuracy:  tensor(68.1908, device='cuda:0')\n",
      "Training Accuracy:  tensor(95.6256, device='cuda:0')\n",
      "Starting Epoch 1\n"
     ]
    },
    {
     "data": {
      "application/vnd.jupyter.widget-view+json": {
       "model_id": "5bef35481f444602b67fcb196316d849",
       "version_major": 2,
       "version_minor": 0
      },
      "text/plain": [
       "HBox(children=(HTML(value=''), FloatProgress(value=0.0, max=97.0), HTML(value='')))"
      ]
     },
     "metadata": {},
     "output_type": "display_data"
    },
    {
     "name": "stdout",
     "output_type": "stream",
     "text": [
      "\n",
      "Finished Epoch 1\n"
     ]
    },
    {
     "data": {
      "application/vnd.jupyter.widget-view+json": {
       "model_id": "885f7bcfe1854fa8aefce695a4050dbf",
       "version_major": 2,
       "version_minor": 0
      },
      "text/plain": [
       "HBox(children=(HTML(value=''), FloatProgress(value=0.0, max=15.0), HTML(value='')))"
      ]
     },
     "metadata": {},
     "output_type": "display_data"
    },
    {
     "name": "stdout",
     "output_type": "stream",
     "text": [
      "\n"
     ]
    },
    {
     "data": {
      "application/vnd.jupyter.widget-view+json": {
       "model_id": "b2d2d36565534ddcbfa398dec44a765f",
       "version_major": 2,
       "version_minor": 0
      },
      "text/plain": [
       "HBox(children=(HTML(value=''), FloatProgress(value=0.0, max=97.0), HTML(value='')))"
      ]
     },
     "metadata": {},
     "output_type": "display_data"
    },
    {
     "name": "stdout",
     "output_type": "stream",
     "text": [
      "\n",
      "Validation Accuracy:  tensor(64.0115, device='cuda:0')\n",
      "Training Accuracy:  tensor(97.1494, device='cuda:0')\n",
      "Starting Epoch 2\n"
     ]
    },
    {
     "data": {
      "application/vnd.jupyter.widget-view+json": {
       "model_id": "b1e37a4e06604b429623c445eb026788",
       "version_major": 2,
       "version_minor": 0
      },
      "text/plain": [
       "HBox(children=(HTML(value=''), FloatProgress(value=0.0, max=97.0), HTML(value='')))"
      ]
     },
     "metadata": {},
     "output_type": "display_data"
    },
    {
     "name": "stdout",
     "output_type": "stream",
     "text": [
      "\n",
      "Finished Epoch 2\n"
     ]
    },
    {
     "data": {
      "application/vnd.jupyter.widget-view+json": {
       "model_id": "39adcdd247454198899eee6e53d97f6a",
       "version_major": 2,
       "version_minor": 0
      },
      "text/plain": [
       "HBox(children=(HTML(value=''), FloatProgress(value=0.0, max=15.0), HTML(value='')))"
      ]
     },
     "metadata": {},
     "output_type": "display_data"
    },
    {
     "name": "stdout",
     "output_type": "stream",
     "text": [
      "\n"
     ]
    },
    {
     "data": {
      "application/vnd.jupyter.widget-view+json": {
       "model_id": "51acf6f09e444e978af8f7edbc7e9b4d",
       "version_major": 2,
       "version_minor": 0
      },
      "text/plain": [
       "HBox(children=(HTML(value=''), FloatProgress(value=0.0, max=97.0), HTML(value='')))"
      ]
     },
     "metadata": {},
     "output_type": "display_data"
    },
    {
     "name": "stdout",
     "output_type": "stream",
     "text": [
      "\n",
      "Validation Accuracy:  tensor(70.3393, device='cuda:0')\n",
      "Training Accuracy:  tensor(97.8544, device='cuda:0')\n",
      "Starting Epoch 3\n"
     ]
    },
    {
     "data": {
      "application/vnd.jupyter.widget-view+json": {
       "model_id": "51518faabe284ed89073176269148fc6",
       "version_major": 2,
       "version_minor": 0
      },
      "text/plain": [
       "HBox(children=(HTML(value=''), FloatProgress(value=0.0, max=97.0), HTML(value='')))"
      ]
     },
     "metadata": {},
     "output_type": "display_data"
    },
    {
     "name": "stdout",
     "output_type": "stream",
     "text": [
      "\n",
      "Finished Epoch 3\n"
     ]
    },
    {
     "data": {
      "application/vnd.jupyter.widget-view+json": {
       "model_id": "4ff856c2f100486f8a185c855f669c18",
       "version_major": 2,
       "version_minor": 0
      },
      "text/plain": [
       "HBox(children=(HTML(value=''), FloatProgress(value=0.0, max=15.0), HTML(value='')))"
      ]
     },
     "metadata": {},
     "output_type": "display_data"
    },
    {
     "name": "stdout",
     "output_type": "stream",
     "text": [
      "\n"
     ]
    },
    {
     "data": {
      "application/vnd.jupyter.widget-view+json": {
       "model_id": "57045851f22140e6a55b8d5ea4fbc583",
       "version_major": 2,
       "version_minor": 0
      },
      "text/plain": [
       "HBox(children=(HTML(value=''), FloatProgress(value=0.0, max=97.0), HTML(value='')))"
      ]
     },
     "metadata": {},
     "output_type": "display_data"
    },
    {
     "name": "stdout",
     "output_type": "stream",
     "text": [
      "\n",
      "Validation Accuracy:  tensor(65.7409, device='cuda:0')\n",
      "Training Accuracy:  tensor(98.2242, device='cuda:0')\n",
      "Starting Epoch 4\n"
     ]
    },
    {
     "data": {
      "application/vnd.jupyter.widget-view+json": {
       "model_id": "a44ee5fa5f29486490bb1140c3a6d7d0",
       "version_major": 2,
       "version_minor": 0
      },
      "text/plain": [
       "HBox(children=(HTML(value=''), FloatProgress(value=0.0, max=97.0), HTML(value='')))"
      ]
     },
     "metadata": {},
     "output_type": "display_data"
    },
    {
     "name": "stdout",
     "output_type": "stream",
     "text": [
      "\n",
      "Finished Epoch 4\n"
     ]
    },
    {
     "data": {
      "application/vnd.jupyter.widget-view+json": {
       "model_id": "b65cd7fa2f984a53aaeccc87a2ee1ac8",
       "version_major": 2,
       "version_minor": 0
      },
      "text/plain": [
       "HBox(children=(HTML(value=''), FloatProgress(value=0.0, max=15.0), HTML(value='')))"
      ]
     },
     "metadata": {},
     "output_type": "display_data"
    },
    {
     "name": "stdout",
     "output_type": "stream",
     "text": [
      "\n"
     ]
    },
    {
     "data": {
      "application/vnd.jupyter.widget-view+json": {
       "model_id": "433ff9899bf84bbc941bb2f4020a6e80",
       "version_major": 2,
       "version_minor": 0
      },
      "text/plain": [
       "HBox(children=(HTML(value=''), FloatProgress(value=0.0, max=97.0), HTML(value='')))"
      ]
     },
     "metadata": {},
     "output_type": "display_data"
    },
    {
     "name": "stdout",
     "output_type": "stream",
     "text": [
      "\n",
      "Validation Accuracy:  tensor(61.3127, device='cuda:0')\n",
      "Training Accuracy:  tensor(98.3644, device='cuda:0')\n",
      "\n"
     ]
    },
    {
     "data": {
      "application/vnd.jupyter.widget-view+json": {
       "model_id": "5591d2a722fc45b48adb9ec72f162187",
       "version_major": 2,
       "version_minor": 0
      },
      "text/plain": [
       "HBox(children=(HTML(value=''), FloatProgress(value=0.0, max=15.0), HTML(value='')))"
      ]
     },
     "metadata": {},
     "output_type": "display_data"
    },
    {
     "name": "stdout",
     "output_type": "stream",
     "text": [
      "\n"
     ]
    },
    {
     "data": {
      "text/html": [
       "<br/>Waiting for W&B process to finish, PID 180697<br/>Program ended successfully."
      ],
      "text/plain": [
       "<IPython.core.display.HTML object>"
      ]
     },
     "metadata": {},
     "output_type": "display_data"
    },
    {
     "data": {
      "application/vnd.jupyter.widget-view+json": {
       "model_id": "",
       "version_major": 2,
       "version_minor": 0
      },
      "text/plain": [
       "VBox(children=(Label(value=' 0.00MB of 0.00MB uploaded (0.00MB deduped)\\r'), FloatProgress(value=1.0, max=1.0)…"
      ]
     },
     "metadata": {},
     "output_type": "display_data"
    },
    {
     "data": {
      "text/html": [
       "Find user logs for this run at: <code>/scratch/users/nnayal17/moody_much/MoodyMuch/ml/wandb/run-20210327_210149-49o4qal0/logs/debug.log</code>"
      ],
      "text/plain": [
       "<IPython.core.display.HTML object>"
      ]
     },
     "metadata": {},
     "output_type": "display_data"
    },
    {
     "data": {
      "text/html": [
       "Find internal logs for this run at: <code>/scratch/users/nnayal17/moody_much/MoodyMuch/ml/wandb/run-20210327_210149-49o4qal0/logs/debug-internal.log</code>"
      ],
      "text/plain": [
       "<IPython.core.display.HTML object>"
      ]
     },
     "metadata": {},
     "output_type": "display_data"
    },
    {
     "data": {
      "text/html": [
       "<h3>Run summary:</h3><br/><style>\n",
       "    table.wandb td:nth-child(1) { padding: 0 10px; text-align: right }\n",
       "    </style><table class=\"wandb\">\n",
       "<tr><td>batch_loss</td><td>0.05761</td></tr><tr><td>_runtime</td><td>472</td></tr><tr><td>_timestamp</td><td>1616868581</td></tr><tr><td>_step</td><td>495</td></tr><tr><td>valid_loss</td><td>1.09145</td></tr><tr><td>loss</td><td>0.04602</td></tr><tr><td>valid_accuracy</td><td>61.31273</td></tr><tr><td>train_accuracy</td><td>98.36442</td></tr><tr><td>epoch_time_minutes</td><td>1.48314</td></tr><tr><td>full_run_time_minutes</td><td>7.75395</td></tr><tr><td>universal_id</td><td>8708</td></tr><tr><td>test_accuracy</td><td>62.09879</td></tr></table>"
      ],
      "text/plain": [
       "<IPython.core.display.HTML object>"
      ]
     },
     "metadata": {},
     "output_type": "display_data"
    },
    {
     "data": {
      "text/html": [
       "<h3>Run history:</h3><br/><style>\n",
       "    table.wandb td:nth-child(1) { padding: 0 10px; text-align: right }\n",
       "    </style><table class=\"wandb\">\n",
       "<tr><td>batch_loss</td><td>█▅▄▃▃▂▂▂▂▂▂▂▂▂▂▂▂▂▂▂▂▂▂▁▁▁▂▁▁▁▁▁▁▁▁▁▁▁▁▁</td></tr><tr><td>_runtime</td><td>▁▁▁▁▁▁▂▂▂▂▃▃▃▃▃▃▄▄▄▄▄▄▄▄▅▅▅▅▆▆▆▆▇▇▇▇▇▇▇█</td></tr><tr><td>_timestamp</td><td>▁▁▁▁▁▁▂▂▂▂▃▃▃▃▃▃▄▄▄▄▄▄▄▄▅▅▅▅▆▆▆▆▇▇▇▇▇▇▇█</td></tr><tr><td>_step</td><td>▁▁▁▂▂▂▂▂▂▃▃▃▃▃▄▄▄▄▄▄▅▅▅▅▅▅▆▆▆▆▆▇▇▇▇▇▇███</td></tr><tr><td>valid_loss</td><td>▃▃▁▃█</td></tr><tr><td>loss</td><td>█▃▂▁▁</td></tr><tr><td>valid_accuracy</td><td>▆▃█▄▁</td></tr><tr><td>train_accuracy</td><td>▁▅▇██</td></tr><tr><td>epoch_time_minutes</td><td>▄▁█▅▁</td></tr><tr><td>full_run_time_minutes</td><td>▁</td></tr><tr><td>universal_id</td><td>▁</td></tr><tr><td>test_accuracy</td><td>▁</td></tr></table><br/>"
      ],
      "text/plain": [
       "<IPython.core.display.HTML object>"
      ]
     },
     "metadata": {},
     "output_type": "display_data"
    },
    {
     "data": {
      "text/html": [
       "Synced 5 W&B file(s), 0 media file(s), 0 artifact file(s) and 0 other file(s)"
      ],
      "text/plain": [
       "<IPython.core.display.HTML object>"
      ]
     },
     "metadata": {},
     "output_type": "display_data"
    },
    {
     "data": {
      "text/html": [
       "\n",
       "                    <br/>Synced <strong style=\"color:#cdcd00\">fiery-sweep-1</strong>: <a href=\"https://wandb.ai/nazirnayal98/moody_much/runs/49o4qal0\" target=\"_blank\">https://wandb.ai/nazirnayal98/moody_much/runs/49o4qal0</a><br/>\n",
       "                "
      ],
      "text/plain": [
       "<IPython.core.display.HTML object>"
      ]
     },
     "metadata": {},
     "output_type": "display_data"
    },
    {
     "name": "stderr",
     "output_type": "stream",
     "text": [
      "\u001b[34m\u001b[1mwandb\u001b[0m: Agent Starting Run: ii6u461j with config:\n",
      "\u001b[34m\u001b[1mwandb\u001b[0m: \tlearning_rate: 0.0001\n",
      "\u001b[34m\u001b[1mwandb\u001b[0m: \tweight_decay: 0.01\n"
     ]
    },
    {
     "data": {
      "text/html": [
       "\n",
       "                Tracking run with wandb version 0.10.20<br/>\n",
       "                Syncing run <strong style=\"color:#cdcd00\">warm-sweep-2</strong> to <a href=\"https://wandb.ai\" target=\"_blank\">Weights & Biases</a> <a href=\"https://docs.wandb.com/integrations/jupyter.html\" target=\"_blank\">(Documentation)</a>.<br/>\n",
       "                Project page: <a href=\"https://wandb.ai/nazirnayal98/moody_much\" target=\"_blank\">https://wandb.ai/nazirnayal98/moody_much</a><br/>\n",
       "                Sweep page: <a href=\"https://wandb.ai/nazirnayal98/moody_much/sweeps/njcdqpq8\" target=\"_blank\">https://wandb.ai/nazirnayal98/moody_much/sweeps/njcdqpq8</a><br/>\n",
       "Run page: <a href=\"https://wandb.ai/nazirnayal98/moody_much/runs/ii6u461j\" target=\"_blank\">https://wandb.ai/nazirnayal98/moody_much/runs/ii6u461j</a><br/>\n",
       "                Run data is saved locally in <code>/scratch/users/nnayal17/moody_much/MoodyMuch/ml/wandb/run-20210327_210946-ii6u461j</code><br/><br/>\n",
       "            "
      ],
      "text/plain": [
       "<IPython.core.display.HTML object>"
      ]
     },
     "metadata": {},
     "output_type": "display_data"
    },
    {
     "data": {
      "application/vnd.jupyter.widget-view+json": {
       "model_id": "b2c4ab135da542ff9585f1465db92cd7",
       "version_major": 2,
       "version_minor": 0
      },
      "text/plain": [
       "HBox(children=(HTML(value=''), FloatProgress(value=0.0, max=5.0), HTML(value='')))"
      ]
     },
     "metadata": {},
     "output_type": "display_data"
    },
    {
     "name": "stdout",
     "output_type": "stream",
     "text": [
      "Starting Epoch 0\n"
     ]
    },
    {
     "data": {
      "application/vnd.jupyter.widget-view+json": {
       "model_id": "8528c140ad2e41d2b258c6b007570bc4",
       "version_major": 2,
       "version_minor": 0
      },
      "text/plain": [
       "HBox(children=(HTML(value=''), FloatProgress(value=0.0, max=97.0), HTML(value='')))"
      ]
     },
     "metadata": {},
     "output_type": "display_data"
    },
    {
     "name": "stdout",
     "output_type": "stream",
     "text": [
      "\n",
      "Finished Epoch 0\n"
     ]
    },
    {
     "data": {
      "application/vnd.jupyter.widget-view+json": {
       "model_id": "0173a35f37b34211accdff64f0ac44c6",
       "version_major": 2,
       "version_minor": 0
      },
      "text/plain": [
       "HBox(children=(HTML(value=''), FloatProgress(value=0.0, max=15.0), HTML(value='')))"
      ]
     },
     "metadata": {},
     "output_type": "display_data"
    },
    {
     "name": "stdout",
     "output_type": "stream",
     "text": [
      "\n"
     ]
    },
    {
     "data": {
      "application/vnd.jupyter.widget-view+json": {
       "model_id": "d9857064cb404de1966c76897e70412f",
       "version_major": 2,
       "version_minor": 0
      },
      "text/plain": [
       "HBox(children=(HTML(value=''), FloatProgress(value=0.0, max=97.0), HTML(value='')))"
      ]
     },
     "metadata": {},
     "output_type": "display_data"
    },
    {
     "name": "stdout",
     "output_type": "stream",
     "text": [
      "\n",
      "Validation Accuracy:  tensor(66.8282, device='cuda:0')\n",
      "Training Accuracy:  tensor(94.2968, device='cuda:0')\n",
      "Starting Epoch 1\n"
     ]
    },
    {
     "data": {
      "application/vnd.jupyter.widget-view+json": {
       "model_id": "917fb0a4666f4222937dfe9513051ce2",
       "version_major": 2,
       "version_minor": 0
      },
      "text/plain": [
       "HBox(children=(HTML(value=''), FloatProgress(value=0.0, max=97.0), HTML(value='')))"
      ]
     },
     "metadata": {},
     "output_type": "display_data"
    },
    {
     "name": "stdout",
     "output_type": "stream",
     "text": [
      "\n",
      "Finished Epoch 1\n"
     ]
    },
    {
     "data": {
      "application/vnd.jupyter.widget-view+json": {
       "model_id": "8326b1f3f4e143c4b62828fe40a02449",
       "version_major": 2,
       "version_minor": 0
      },
      "text/plain": [
       "HBox(children=(HTML(value=''), FloatProgress(value=0.0, max=15.0), HTML(value='')))"
      ]
     },
     "metadata": {},
     "output_type": "display_data"
    },
    {
     "name": "stdout",
     "output_type": "stream",
     "text": [
      "\n"
     ]
    },
    {
     "data": {
      "application/vnd.jupyter.widget-view+json": {
       "model_id": "4b50af62d6a54e9ca7026f5156608481",
       "version_major": 2,
       "version_minor": 0
      },
      "text/plain": [
       "HBox(children=(HTML(value=''), FloatProgress(value=0.0, max=97.0), HTML(value='')))"
      ]
     },
     "metadata": {},
     "output_type": "display_data"
    },
    {
     "name": "stdout",
     "output_type": "stream",
     "text": [
      "\n",
      "Validation Accuracy:  tensor(63.5530, device='cuda:0')\n",
      "Training Accuracy:  tensor(95.3289, device='cuda:0')\n",
      "Starting Epoch 2\n"
     ]
    },
    {
     "data": {
      "application/vnd.jupyter.widget-view+json": {
       "model_id": "586c39b3b67d4e74b8fb89403b53cce9",
       "version_major": 2,
       "version_minor": 0
      },
      "text/plain": [
       "HBox(children=(HTML(value=''), FloatProgress(value=0.0, max=97.0), HTML(value='')))"
      ]
     },
     "metadata": {},
     "output_type": "display_data"
    },
    {
     "name": "stdout",
     "output_type": "stream",
     "text": [
      "\n",
      "Finished Epoch 2\n"
     ]
    },
    {
     "data": {
      "application/vnd.jupyter.widget-view+json": {
       "model_id": "9813c4dfbfcc4cc0ae8d4a1b4fa85872",
       "version_major": 2,
       "version_minor": 0
      },
      "text/plain": [
       "HBox(children=(HTML(value=''), FloatProgress(value=0.0, max=15.0), HTML(value='')))"
      ]
     },
     "metadata": {},
     "output_type": "display_data"
    },
    {
     "name": "stdout",
     "output_type": "stream",
     "text": [
      "\n"
     ]
    },
    {
     "data": {
      "application/vnd.jupyter.widget-view+json": {
       "model_id": "5b8c87611e184372834002806021d3ac",
       "version_major": 2,
       "version_minor": 0
      },
      "text/plain": [
       "HBox(children=(HTML(value=''), FloatProgress(value=0.0, max=97.0), HTML(value='')))"
      ]
     },
     "metadata": {},
     "output_type": "display_data"
    }
   ],
   "source": [
    "wandb.agent(sweep_id, train)"
   ]
  }
 ],
 "metadata": {
  "kernelspec": {
   "display_name": "nazir_env",
   "language": "python",
   "name": "nazir_env"
  },
  "language_info": {
   "codemirror_mode": {
    "name": "ipython",
    "version": 3
   },
   "file_extension": ".py",
   "mimetype": "text/x-python",
   "name": "python",
   "nbconvert_exporter": "python",
   "pygments_lexer": "ipython3",
   "version": "3.8.5"
  }
 },
 "nbformat": 4,
 "nbformat_minor": 4
}
